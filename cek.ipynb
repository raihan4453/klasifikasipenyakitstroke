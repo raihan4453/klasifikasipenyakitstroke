{
 "cells": [
  {
   "cell_type": "code",
   "execution_count": null,
   "metadata": {},
   "outputs": [],
   "source": [
    "import pandas as pd\n",
    "import joblib\n",
    "\n",
    "# Load scaler dan model\n",
    "scaler = joblib.load('scaler.sav')\n",
    "model = joblib.load('brain_stroke_model.sav')\n",
    "\n",
    "# Contoh data baru\n",
    "new_data = pd.DataFrame({\n",
    "    'gender': [1],\n",
    "    'age': [67],\n",
    "    'hypertension': [0],\n",
    "    'heart_disease': [1],\n",
    "    'ever_married': [1],\n",
    "    'work_type': [2],\n",
    "    'Residence_type': [1],\n",
    "    'avg_glucose_level': [228.69],\n",
    "    'bmi': [36.6],\n",
    "    'smoking_status': [2]\n",
    "})\n",
    "\n",
    "new_data_scaled = scaler.transform(new_data)\n",
    "prediction = model.predict(new_data_scaled)\n",
    "print(f'Prediksi: {prediction[0]}')"
   ]
  }
 ],
 "metadata": {},
 "nbformat": 4,
 "nbformat_minor": 4
}